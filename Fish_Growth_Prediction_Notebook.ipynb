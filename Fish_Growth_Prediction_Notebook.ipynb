{
 "cells": [
  {
   "cell_type": "markdown",
   "id": "ef7f6713",
   "metadata": {},
   "source": [
    "# 🐟 Fish Growth Prediction using Machine Learning\n",
    "This notebook demonstrates how to use **Linear Regression** to predict fish growth (weight) based on Day, Feed, and Water Temperature.\n",
    "\n",
    "### Steps:\n",
    "1. Load Dataset\n",
    "2. Split into Training & Testing\n",
    "3. Train Linear Regression Model\n",
    "4. Make Predictions\n",
    "5. Visualize Results\n",
    "6. Example Prediction\n"
   ]
  },
  {
   "cell_type": "code",
   "execution_count": null,
   "id": "5951f119",
   "metadata": {},
   "outputs": [],
   "source": [
    "import pandas as pd\n",
    "import matplotlib.pyplot as plt\n",
    "from sklearn.model_selection import train_test_split\n",
    "from sklearn.linear_model import LinearRegression\n",
    "\n",
    "# Load dataset\n",
    "df = pd.read_csv('fish_growth_dataset.csv')\n",
    "df.head()"
   ]
  },
  {
   "cell_type": "markdown",
   "id": "458929ad",
   "metadata": {},
   "source": [
    "## 📊 Features and Target\n",
    "- **Features (X):** Day, Feed, Temperature\n",
    "- **Target (y):** Weight"
   ]
  },
  {
   "cell_type": "code",
   "execution_count": null,
   "id": "6d2c7240",
   "metadata": {},
   "outputs": [],
   "source": [
    "X = df[[\"Day\", \"Feed (g)\", \"Temperature (°C)\"]]\n",
    "y = df[\"Weight (g)\"]\n",
    "\n",
    "# Split dataset into training and testing sets\n",
    "X_train, X_test, y_train, y_test = train_test_split(X, y, test_size=0.2, random_state=42)\n",
    "X_train.head()"
   ]
  },
  {
   "cell_type": "markdown",
   "id": "87e74bc3",
   "metadata": {},
   "source": [
    "## 🤖 Train Linear Regression Model"
   ]
  },
  {
   "cell_type": "code",
   "execution_count": null,
   "id": "42e54b7a",
   "metadata": {},
   "outputs": [],
   "source": [
    "model = LinearRegression()\n",
    "model.fit(X_train, y_train)\n",
    "\n",
    "print(\"Model trained successfully!\")"
   ]
  },
  {
   "cell_type": "markdown",
   "id": "ff290c3b",
   "metadata": {},
   "source": [
    "## 🔮 Predictions"
   ]
  },
  {
   "cell_type": "code",
   "execution_count": null,
   "id": "fb7da3f7",
   "metadata": {},
   "outputs": [],
   "source": [
    "y_pred = model.predict(X_test)\n",
    "\n",
    "# Compare first 5 predictions\n",
    "pd.DataFrame({\"Actual\": y_test.values[:5], \"Predicted\": y_pred[:5]})"
   ]
  },
  {
   "cell_type": "markdown",
   "id": "89af82aa",
   "metadata": {},
   "source": [
    "## 📈 Visualization: Actual vs Predicted"
   ]
  },
  {
   "cell_type": "code",
   "execution_count": null,
   "id": "54f7e08c",
   "metadata": {},
   "outputs": [],
   "source": [
    "plt.scatter(y_test, y_pred, color=\"blue\")\n",
    "plt.xlabel(\"Actual Fish Weight (g)\")\n",
    "plt.ylabel(\"Predicted Fish Weight (g)\")\n",
    "plt.title(\"Fish Growth Prediction - Linear Regression\")\n",
    "plt.grid(True)\n",
    "plt.show()"
   ]
  },
  {
   "cell_type": "markdown",
   "id": "83d03ad3",
   "metadata": {},
   "source": [
    "## 🧪 Example Prediction"
   ]
  },
  {
   "cell_type": "code",
   "execution_count": null,
   "id": "895c96fe",
   "metadata": {},
   "outputs": [],
   "source": [
    "# Example: Day=21, Feed=70g, Temperature=28C\n",
    "example_pred = model.predict([[21, 70, 28]])[0]\n",
    "print(f\"Predicted Fish Weight on Day 21 (Feed=70g, Temp=28C): {example_pred:.2f} g\")"
   ]
  }
 ],
 "metadata": {
  "kernelspec": {
   "display_name": "Python 3",
   "language": "python",
   "name": "python3"
  },
  "language_info": {
   "name": "python",
   "version": "3.11"
  }
 },
 "nbformat": 4,
 "nbformat_minor": 5
}
